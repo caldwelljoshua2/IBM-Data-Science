{
 "cells": [
  {
   "cell_type": "markdown",
   "id": "444ddc75-0f94-4b74-9ef6-4bb0fe594114",
   "metadata": {},
   "source": [
    "# Data Science Tools and Baseball"
   ]
  },
  {
   "cell_type": "markdown",
   "id": "a897d633-277b-4c77-af8a-9f25a4f21ee9",
   "metadata": {
    "tags": []
   },
   "source": [
    "In this notebook, Data Science Tools and Baseball are summarized"
   ]
  },
  {
   "cell_type": "markdown",
   "id": "e946046c-395d-4a6b-8ce7-e5e63ba71742",
   "metadata": {},
   "source": [
    "**Objectives**\n",
    "* List popular languages for Data Science\n",
    "* List commonoly used libraries used by Data Scientists\n",
    "* Evaluate Arithmetic Expressions in Python"
   ]
  },
  {
   "cell_type": "markdown",
   "id": "cf10a137-22d6-4176-902f-7c59a7d179ff",
   "metadata": {},
   "source": [
    "Some of the popular languages that Data Scientists use are:\n",
    "1. Python\n",
    "2. SQL\n",
    "3. R"
   ]
  },
  {
   "cell_type": "markdown",
   "id": "ab5c2bc6-5619-45ce-ba43-6fbfbd26fc66",
   "metadata": {},
   "source": [
    "Some of the commonly used libraries used by Data Scientists include:\n",
    "1. NumPy\n",
    "2. Keras\n",
    "3. TensorFlow"
   ]
  },
  {
   "cell_type": "markdown",
   "id": "aca5796e-94c5-4368-838c-dbaee058019f",
   "metadata": {},
   "source": [
    "| Data Science Tools | \n",
    "| -----------------  | \n",
    "| Hadoop             | \n",
    "| Spark              | \n",
    "| Jupyter Notebooks  | "
   ]
  },
  {
   "cell_type": "markdown",
   "id": "3f4f3bb1-b2fb-4fe8-9b5b-a2c70d6cd2fd",
   "metadata": {},
   "source": [
    "### Below are a few examples of evaluating arithmetic expressions in Python."
   ]
  },
  {
   "cell_type": "markdown",
   "id": "86a1a1ec-7b9a-44b4-acf7-b5cfcd932484",
   "metadata": {
    "tags": []
   },
   "source": [
    "This a simple arithmetic expression to mutiply then add integers"
   ]
  },
  {
   "cell_type": "code",
   "execution_count": 11,
   "id": "a8889d46-f7c7-4bdc-8fc5-badc410d19fe",
   "metadata": {
    "tags": []
   },
   "outputs": [
    {
     "data": {
      "text/plain": [
       "14"
      ]
     },
     "execution_count": 11,
     "metadata": {},
     "output_type": "execute_result"
    }
   ],
   "source": [
    "(4*2)+6"
   ]
  },
  {
   "cell_type": "markdown",
   "id": "5fb17269-b928-4636-b769-3bb2aa9a6fd8",
   "metadata": {},
   "source": [
    "This will convert 300 minutes to hours by diving by 60"
   ]
  },
  {
   "cell_type": "code",
   "execution_count": 12,
   "id": "671a77de-366f-4e53-85c5-f21d8db49380",
   "metadata": {
    "tags": []
   },
   "outputs": [
    {
     "data": {
      "text/plain": [
       "5.0"
      ]
     },
     "execution_count": 12,
     "metadata": {},
     "output_type": "execute_result"
    }
   ],
   "source": [
    "300 / 60"
   ]
  },
  {
   "cell_type": "markdown",
   "id": "4c7dc432-b382-4c08-acf1-e7aa4621646d",
   "metadata": {
    "jp-MarkdownHeadingCollapsed": true,
    "tags": []
   },
   "source": [
    "## Author \n",
    "Joshua Caldwell"
   ]
  }
 ],
 "metadata": {
  "kernelspec": {
   "display_name": "Python",
   "language": "python",
   "name": "conda-env-python-py"
  },
  "language_info": {
   "codemirror_mode": {
    "name": "ipython",
    "version": 3
   },
   "file_extension": ".py",
   "mimetype": "text/x-python",
   "name": "python",
   "nbconvert_exporter": "python",
   "pygments_lexer": "ipython3",
   "version": "3.7.12"
  }
 },
 "nbformat": 4,
 "nbformat_minor": 5
}
